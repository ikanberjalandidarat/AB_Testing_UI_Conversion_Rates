{
  "nbformat": 4,
  "nbformat_minor": 0,
  "metadata": {
    "colab": {
      "name": "A&B Testing - Converted / Not Converted from User Interface - Python .ipynb",
      "provenance": []
    },
    "kernelspec": {
      "name": "python3",
      "display_name": "Python 3"
    },
    "language_info": {
      "name": "python"
    }
  },
  "cells": [
    {
      "cell_type": "markdown",
      "source": [
        "### A&B Testing in Python ⏰\n",
        "\n",
        "Key takeaway: is to understand whether a **change** company's user interface have any significance on the conversion rate of users. \n",
        "\n",
        "<b>Conversion 0: User does not convert. <br>\n",
        "Conversion 1: User does convert.</b>\n",
        "\n",
        "---\n",
        "\n",
        "\n",
        "The **null hypothesis**, or H0, would be that the conversion is purely by chance, and does not have any significance to the conversion rates. \n",
        "\n",
        "Our main objective is to then decline / refute the null hypothesis, and accept the **alternate hypothesis**, or Ha, that means its not purely by chance, and that the company's change in the user interface does cause the higher conversion rates, or lower. "
      ],
      "metadata": {
        "id": "lKYO3_BKSaKu"
      }
    },
    {
      "cell_type": "markdown",
      "source": [
        "## Acquisition and Imports"
      ],
      "metadata": {
        "id": "B-sH8kP-hXy-"
      }
    },
    {
      "cell_type": "code",
      "execution_count": 2,
      "metadata": {
        "id": "h5nzwaFgR6qE"
      },
      "outputs": [],
      "source": [
        "# Importing the required libraries \n",
        "import pandas as pd\n",
        "import numpy as np\n",
        "import seaborn as sns\n",
        "import scipy.stats as ss "
      ]
    },
    {
      "cell_type": "code",
      "source": [
        "# Data acquisition (From Luyuan Zhang, A/B testing)\n",
        "df = pd.read_csv(\"/content/drive/MyDrive/ABdata/ab_data.csv\")"
      ],
      "metadata": {
        "id": "PObPQF4QTVye"
      },
      "execution_count": 126,
      "outputs": []
    },
    {
      "cell_type": "code",
      "source": [
        "# Data info\n",
        "df.info()"
      ],
      "metadata": {
        "colab": {
          "base_uri": "https://localhost:8080/"
        },
        "id": "oEqvFYEVT7QW",
        "outputId": "f2ba40ae-e783-44de-d3a1-9af72974d80a"
      },
      "execution_count": 4,
      "outputs": [
        {
          "output_type": "stream",
          "name": "stdout",
          "text": [
            "<class 'pandas.core.frame.DataFrame'>\n",
            "RangeIndex: 294478 entries, 0 to 294477\n",
            "Data columns (total 5 columns):\n",
            " #   Column        Non-Null Count   Dtype \n",
            "---  ------        --------------   ----- \n",
            " 0   user_id       294478 non-null  int64 \n",
            " 1   timestamp     294478 non-null  object\n",
            " 2   group         294478 non-null  object\n",
            " 3   landing_page  294478 non-null  object\n",
            " 4   converted     294478 non-null  int64 \n",
            "dtypes: int64(2), object(3)\n",
            "memory usage: 11.2+ MB\n"
          ]
        }
      ]
    },
    {
      "cell_type": "markdown",
      "source": [
        "\n",
        "\n",
        "```\n",
        "Do note that there are 294478 data entries in this dataset.\n",
        "From index range [0, 294477]\n",
        "```\n",
        "\n"
      ],
      "metadata": {
        "id": "6rx4HtpLUE-6"
      }
    },
    {
      "cell_type": "code",
      "source": [
        "df.head()"
      ],
      "metadata": {
        "colab": {
          "base_uri": "https://localhost:8080/",
          "height": 206
        },
        "id": "fA-vDXRdUAtz",
        "outputId": "85f74abd-c564-47dc-f5bf-30505f285106"
      },
      "execution_count": 5,
      "outputs": [
        {
          "output_type": "execute_result",
          "data": {
            "text/html": [
              "\n",
              "  <div id=\"df-884ad44e-3ac5-4d81-804f-2e38f97775d5\">\n",
              "    <div class=\"colab-df-container\">\n",
              "      <div>\n",
              "<style scoped>\n",
              "    .dataframe tbody tr th:only-of-type {\n",
              "        vertical-align: middle;\n",
              "    }\n",
              "\n",
              "    .dataframe tbody tr th {\n",
              "        vertical-align: top;\n",
              "    }\n",
              "\n",
              "    .dataframe thead th {\n",
              "        text-align: right;\n",
              "    }\n",
              "</style>\n",
              "<table border=\"1\" class=\"dataframe\">\n",
              "  <thead>\n",
              "    <tr style=\"text-align: right;\">\n",
              "      <th></th>\n",
              "      <th>user_id</th>\n",
              "      <th>timestamp</th>\n",
              "      <th>group</th>\n",
              "      <th>landing_page</th>\n",
              "      <th>converted</th>\n",
              "    </tr>\n",
              "  </thead>\n",
              "  <tbody>\n",
              "    <tr>\n",
              "      <th>0</th>\n",
              "      <td>851104</td>\n",
              "      <td>2017-01-21 22:11:48.556739</td>\n",
              "      <td>control</td>\n",
              "      <td>old_page</td>\n",
              "      <td>0</td>\n",
              "    </tr>\n",
              "    <tr>\n",
              "      <th>1</th>\n",
              "      <td>804228</td>\n",
              "      <td>2017-01-12 08:01:45.159739</td>\n",
              "      <td>control</td>\n",
              "      <td>old_page</td>\n",
              "      <td>0</td>\n",
              "    </tr>\n",
              "    <tr>\n",
              "      <th>2</th>\n",
              "      <td>661590</td>\n",
              "      <td>2017-01-11 16:55:06.154213</td>\n",
              "      <td>treatment</td>\n",
              "      <td>new_page</td>\n",
              "      <td>0</td>\n",
              "    </tr>\n",
              "    <tr>\n",
              "      <th>3</th>\n",
              "      <td>853541</td>\n",
              "      <td>2017-01-08 18:28:03.143765</td>\n",
              "      <td>treatment</td>\n",
              "      <td>new_page</td>\n",
              "      <td>0</td>\n",
              "    </tr>\n",
              "    <tr>\n",
              "      <th>4</th>\n",
              "      <td>864975</td>\n",
              "      <td>2017-01-21 01:52:26.210827</td>\n",
              "      <td>control</td>\n",
              "      <td>old_page</td>\n",
              "      <td>1</td>\n",
              "    </tr>\n",
              "  </tbody>\n",
              "</table>\n",
              "</div>\n",
              "      <button class=\"colab-df-convert\" onclick=\"convertToInteractive('df-884ad44e-3ac5-4d81-804f-2e38f97775d5')\"\n",
              "              title=\"Convert this dataframe to an interactive table.\"\n",
              "              style=\"display:none;\">\n",
              "        \n",
              "  <svg xmlns=\"http://www.w3.org/2000/svg\" height=\"24px\"viewBox=\"0 0 24 24\"\n",
              "       width=\"24px\">\n",
              "    <path d=\"M0 0h24v24H0V0z\" fill=\"none\"/>\n",
              "    <path d=\"M18.56 5.44l.94 2.06.94-2.06 2.06-.94-2.06-.94-.94-2.06-.94 2.06-2.06.94zm-11 1L8.5 8.5l.94-2.06 2.06-.94-2.06-.94L8.5 2.5l-.94 2.06-2.06.94zm10 10l.94 2.06.94-2.06 2.06-.94-2.06-.94-.94-2.06-.94 2.06-2.06.94z\"/><path d=\"M17.41 7.96l-1.37-1.37c-.4-.4-.92-.59-1.43-.59-.52 0-1.04.2-1.43.59L10.3 9.45l-7.72 7.72c-.78.78-.78 2.05 0 2.83L4 21.41c.39.39.9.59 1.41.59.51 0 1.02-.2 1.41-.59l7.78-7.78 2.81-2.81c.8-.78.8-2.07 0-2.86zM5.41 20L4 18.59l7.72-7.72 1.47 1.35L5.41 20z\"/>\n",
              "  </svg>\n",
              "      </button>\n",
              "      \n",
              "  <style>\n",
              "    .colab-df-container {\n",
              "      display:flex;\n",
              "      flex-wrap:wrap;\n",
              "      gap: 12px;\n",
              "    }\n",
              "\n",
              "    .colab-df-convert {\n",
              "      background-color: #E8F0FE;\n",
              "      border: none;\n",
              "      border-radius: 50%;\n",
              "      cursor: pointer;\n",
              "      display: none;\n",
              "      fill: #1967D2;\n",
              "      height: 32px;\n",
              "      padding: 0 0 0 0;\n",
              "      width: 32px;\n",
              "    }\n",
              "\n",
              "    .colab-df-convert:hover {\n",
              "      background-color: #E2EBFA;\n",
              "      box-shadow: 0px 1px 2px rgba(60, 64, 67, 0.3), 0px 1px 3px 1px rgba(60, 64, 67, 0.15);\n",
              "      fill: #174EA6;\n",
              "    }\n",
              "\n",
              "    [theme=dark] .colab-df-convert {\n",
              "      background-color: #3B4455;\n",
              "      fill: #D2E3FC;\n",
              "    }\n",
              "\n",
              "    [theme=dark] .colab-df-convert:hover {\n",
              "      background-color: #434B5C;\n",
              "      box-shadow: 0px 1px 3px 1px rgba(0, 0, 0, 0.15);\n",
              "      filter: drop-shadow(0px 1px 2px rgba(0, 0, 0, 0.3));\n",
              "      fill: #FFFFFF;\n",
              "    }\n",
              "  </style>\n",
              "\n",
              "      <script>\n",
              "        const buttonEl =\n",
              "          document.querySelector('#df-884ad44e-3ac5-4d81-804f-2e38f97775d5 button.colab-df-convert');\n",
              "        buttonEl.style.display =\n",
              "          google.colab.kernel.accessAllowed ? 'block' : 'none';\n",
              "\n",
              "        async function convertToInteractive(key) {\n",
              "          const element = document.querySelector('#df-884ad44e-3ac5-4d81-804f-2e38f97775d5');\n",
              "          const dataTable =\n",
              "            await google.colab.kernel.invokeFunction('convertToInteractive',\n",
              "                                                     [key], {});\n",
              "          if (!dataTable) return;\n",
              "\n",
              "          const docLinkHtml = 'Like what you see? Visit the ' +\n",
              "            '<a target=\"_blank\" href=https://colab.research.google.com/notebooks/data_table.ipynb>data table notebook</a>'\n",
              "            + ' to learn more about interactive tables.';\n",
              "          element.innerHTML = '';\n",
              "          dataTable['output_type'] = 'display_data';\n",
              "          await google.colab.output.renderOutput(dataTable, element);\n",
              "          const docLink = document.createElement('div');\n",
              "          docLink.innerHTML = docLinkHtml;\n",
              "          element.appendChild(docLink);\n",
              "        }\n",
              "      </script>\n",
              "    </div>\n",
              "  </div>\n",
              "  "
            ],
            "text/plain": [
              "   user_id                   timestamp      group landing_page  converted\n",
              "0   851104  2017-01-21 22:11:48.556739    control     old_page          0\n",
              "1   804228  2017-01-12 08:01:45.159739    control     old_page          0\n",
              "2   661590  2017-01-11 16:55:06.154213  treatment     new_page          0\n",
              "3   853541  2017-01-08 18:28:03.143765  treatment     new_page          0\n",
              "4   864975  2017-01-21 01:52:26.210827    control     old_page          1"
            ]
          },
          "metadata": {},
          "execution_count": 5
        }
      ]
    },
    {
      "cell_type": "code",
      "source": [
        "pd.crosstab(df['group'], df['landing_page'])"
      ],
      "metadata": {
        "colab": {
          "base_uri": "https://localhost:8080/",
          "height": 141
        },
        "id": "zIuvcT63UCiU",
        "outputId": "e7d11a8e-7bbe-4ceb-b333-938ee2d84e13"
      },
      "execution_count": 155,
      "outputs": [
        {
          "output_type": "execute_result",
          "data": {
            "text/html": [
              "\n",
              "  <div id=\"df-198432d6-fb99-4906-9931-aba3b9665c14\">\n",
              "    <div class=\"colab-df-container\">\n",
              "      <div>\n",
              "<style scoped>\n",
              "    .dataframe tbody tr th:only-of-type {\n",
              "        vertical-align: middle;\n",
              "    }\n",
              "\n",
              "    .dataframe tbody tr th {\n",
              "        vertical-align: top;\n",
              "    }\n",
              "\n",
              "    .dataframe thead th {\n",
              "        text-align: right;\n",
              "    }\n",
              "</style>\n",
              "<table border=\"1\" class=\"dataframe\">\n",
              "  <thead>\n",
              "    <tr style=\"text-align: right;\">\n",
              "      <th>landing_page</th>\n",
              "      <th>new_page</th>\n",
              "      <th>old_page</th>\n",
              "    </tr>\n",
              "    <tr>\n",
              "      <th>group</th>\n",
              "      <th></th>\n",
              "      <th></th>\n",
              "    </tr>\n",
              "  </thead>\n",
              "  <tbody>\n",
              "    <tr>\n",
              "      <th>control</th>\n",
              "      <td>0</td>\n",
              "      <td>143293</td>\n",
              "    </tr>\n",
              "    <tr>\n",
              "      <th>treatment</th>\n",
              "      <td>143397</td>\n",
              "      <td>0</td>\n",
              "    </tr>\n",
              "  </tbody>\n",
              "</table>\n",
              "</div>\n",
              "      <button class=\"colab-df-convert\" onclick=\"convertToInteractive('df-198432d6-fb99-4906-9931-aba3b9665c14')\"\n",
              "              title=\"Convert this dataframe to an interactive table.\"\n",
              "              style=\"display:none;\">\n",
              "        \n",
              "  <svg xmlns=\"http://www.w3.org/2000/svg\" height=\"24px\"viewBox=\"0 0 24 24\"\n",
              "       width=\"24px\">\n",
              "    <path d=\"M0 0h24v24H0V0z\" fill=\"none\"/>\n",
              "    <path d=\"M18.56 5.44l.94 2.06.94-2.06 2.06-.94-2.06-.94-.94-2.06-.94 2.06-2.06.94zm-11 1L8.5 8.5l.94-2.06 2.06-.94-2.06-.94L8.5 2.5l-.94 2.06-2.06.94zm10 10l.94 2.06.94-2.06 2.06-.94-2.06-.94-.94-2.06-.94 2.06-2.06.94z\"/><path d=\"M17.41 7.96l-1.37-1.37c-.4-.4-.92-.59-1.43-.59-.52 0-1.04.2-1.43.59L10.3 9.45l-7.72 7.72c-.78.78-.78 2.05 0 2.83L4 21.41c.39.39.9.59 1.41.59.51 0 1.02-.2 1.41-.59l7.78-7.78 2.81-2.81c.8-.78.8-2.07 0-2.86zM5.41 20L4 18.59l7.72-7.72 1.47 1.35L5.41 20z\"/>\n",
              "  </svg>\n",
              "      </button>\n",
              "      \n",
              "  <style>\n",
              "    .colab-df-container {\n",
              "      display:flex;\n",
              "      flex-wrap:wrap;\n",
              "      gap: 12px;\n",
              "    }\n",
              "\n",
              "    .colab-df-convert {\n",
              "      background-color: #E8F0FE;\n",
              "      border: none;\n",
              "      border-radius: 50%;\n",
              "      cursor: pointer;\n",
              "      display: none;\n",
              "      fill: #1967D2;\n",
              "      height: 32px;\n",
              "      padding: 0 0 0 0;\n",
              "      width: 32px;\n",
              "    }\n",
              "\n",
              "    .colab-df-convert:hover {\n",
              "      background-color: #E2EBFA;\n",
              "      box-shadow: 0px 1px 2px rgba(60, 64, 67, 0.3), 0px 1px 3px 1px rgba(60, 64, 67, 0.15);\n",
              "      fill: #174EA6;\n",
              "    }\n",
              "\n",
              "    [theme=dark] .colab-df-convert {\n",
              "      background-color: #3B4455;\n",
              "      fill: #D2E3FC;\n",
              "    }\n",
              "\n",
              "    [theme=dark] .colab-df-convert:hover {\n",
              "      background-color: #434B5C;\n",
              "      box-shadow: 0px 1px 3px 1px rgba(0, 0, 0, 0.15);\n",
              "      filter: drop-shadow(0px 1px 2px rgba(0, 0, 0, 0.3));\n",
              "      fill: #FFFFFF;\n",
              "    }\n",
              "  </style>\n",
              "\n",
              "      <script>\n",
              "        const buttonEl =\n",
              "          document.querySelector('#df-198432d6-fb99-4906-9931-aba3b9665c14 button.colab-df-convert');\n",
              "        buttonEl.style.display =\n",
              "          google.colab.kernel.accessAllowed ? 'block' : 'none';\n",
              "\n",
              "        async function convertToInteractive(key) {\n",
              "          const element = document.querySelector('#df-198432d6-fb99-4906-9931-aba3b9665c14');\n",
              "          const dataTable =\n",
              "            await google.colab.kernel.invokeFunction('convertToInteractive',\n",
              "                                                     [key], {});\n",
              "          if (!dataTable) return;\n",
              "\n",
              "          const docLinkHtml = 'Like what you see? Visit the ' +\n",
              "            '<a target=\"_blank\" href=https://colab.research.google.com/notebooks/data_table.ipynb>data table notebook</a>'\n",
              "            + ' to learn more about interactive tables.';\n",
              "          element.innerHTML = '';\n",
              "          dataTable['output_type'] = 'display_data';\n",
              "          await google.colab.output.renderOutput(dataTable, element);\n",
              "          const docLink = document.createElement('div');\n",
              "          docLink.innerHTML = docLinkHtml;\n",
              "          element.appendChild(docLink);\n",
              "        }\n",
              "      </script>\n",
              "    </div>\n",
              "  </div>\n",
              "  "
            ],
            "text/plain": [
              "landing_page  new_page  old_page\n",
              "group                           \n",
              "control              0    143293\n",
              "treatment       143397         0"
            ]
          },
          "metadata": {},
          "execution_count": 155
        }
      ]
    },
    {
      "cell_type": "markdown",
      "source": [
        "The treatment group (also called the experimental group) receives the treatment whose effect the researcher is interested in. The control group receives either no treatment, a standard treatment whose effect is already known, or a placebo (a fake treatment) - Thomas, 2021\n",
        "\n",
        "```\n",
        "From the code above, it is shown that which treatment group\n",
        "\"control\" or \"treatment\", are shown which type of landing page.\n",
        "\n",
        "Whether it be the old, or new one.\n",
        "\n",
        "The control group is faces more of the old page, compared to the treatment group, which were shown with the new page.\n",
        "```\n",
        "\n"
      ],
      "metadata": {
        "id": "XVoxecSFUbXI"
      }
    },
    {
      "cell_type": "code",
      "source": [
        "# Checking whether all of the users observed are unique\n",
        "df[df['user_id'].duplicated()]"
      ],
      "metadata": {
        "colab": {
          "base_uri": "https://localhost:8080/",
          "height": 414
        },
        "id": "lIOsMfgQUY39",
        "outputId": "8b4d1779-4263-47be-d04f-8bb02bfb9d10"
      },
      "execution_count": 11,
      "outputs": [
        {
          "output_type": "execute_result",
          "data": {
            "text/html": [
              "\n",
              "  <div id=\"df-eff6089e-f9ed-4ab4-aa9d-55dd42873d50\">\n",
              "    <div class=\"colab-df-container\">\n",
              "      <div>\n",
              "<style scoped>\n",
              "    .dataframe tbody tr th:only-of-type {\n",
              "        vertical-align: middle;\n",
              "    }\n",
              "\n",
              "    .dataframe tbody tr th {\n",
              "        vertical-align: top;\n",
              "    }\n",
              "\n",
              "    .dataframe thead th {\n",
              "        text-align: right;\n",
              "    }\n",
              "</style>\n",
              "<table border=\"1\" class=\"dataframe\">\n",
              "  <thead>\n",
              "    <tr style=\"text-align: right;\">\n",
              "      <th></th>\n",
              "      <th>user_id</th>\n",
              "      <th>timestamp</th>\n",
              "      <th>group</th>\n",
              "      <th>landing_page</th>\n",
              "      <th>converted</th>\n",
              "    </tr>\n",
              "  </thead>\n",
              "  <tbody>\n",
              "    <tr>\n",
              "      <th>2656</th>\n",
              "      <td>698120</td>\n",
              "      <td>2017-01-15 17:13:42.602796</td>\n",
              "      <td>control</td>\n",
              "      <td>old_page</td>\n",
              "      <td>0</td>\n",
              "    </tr>\n",
              "    <tr>\n",
              "      <th>2893</th>\n",
              "      <td>773192</td>\n",
              "      <td>2017-01-14 02:55:59.590927</td>\n",
              "      <td>treatment</td>\n",
              "      <td>new_page</td>\n",
              "      <td>0</td>\n",
              "    </tr>\n",
              "    <tr>\n",
              "      <th>7500</th>\n",
              "      <td>899953</td>\n",
              "      <td>2017-01-07 03:06:54.068237</td>\n",
              "      <td>control</td>\n",
              "      <td>new_page</td>\n",
              "      <td>0</td>\n",
              "    </tr>\n",
              "    <tr>\n",
              "      <th>8036</th>\n",
              "      <td>790934</td>\n",
              "      <td>2017-01-19 08:32:20.329057</td>\n",
              "      <td>treatment</td>\n",
              "      <td>new_page</td>\n",
              "      <td>0</td>\n",
              "    </tr>\n",
              "    <tr>\n",
              "      <th>10218</th>\n",
              "      <td>633793</td>\n",
              "      <td>2017-01-17 00:16:00.746561</td>\n",
              "      <td>treatment</td>\n",
              "      <td>old_page</td>\n",
              "      <td>0</td>\n",
              "    </tr>\n",
              "    <tr>\n",
              "      <th>...</th>\n",
              "      <td>...</td>\n",
              "      <td>...</td>\n",
              "      <td>...</td>\n",
              "      <td>...</td>\n",
              "      <td>...</td>\n",
              "    </tr>\n",
              "    <tr>\n",
              "      <th>294308</th>\n",
              "      <td>905197</td>\n",
              "      <td>2017-01-03 06:56:47.488231</td>\n",
              "      <td>treatment</td>\n",
              "      <td>new_page</td>\n",
              "      <td>0</td>\n",
              "    </tr>\n",
              "    <tr>\n",
              "      <th>294309</th>\n",
              "      <td>787083</td>\n",
              "      <td>2017-01-17 00:15:20.950723</td>\n",
              "      <td>control</td>\n",
              "      <td>old_page</td>\n",
              "      <td>0</td>\n",
              "    </tr>\n",
              "    <tr>\n",
              "      <th>294328</th>\n",
              "      <td>641570</td>\n",
              "      <td>2017-01-09 21:59:27.695711</td>\n",
              "      <td>control</td>\n",
              "      <td>old_page</td>\n",
              "      <td>0</td>\n",
              "    </tr>\n",
              "    <tr>\n",
              "      <th>294331</th>\n",
              "      <td>689637</td>\n",
              "      <td>2017-01-13 11:34:28.339532</td>\n",
              "      <td>control</td>\n",
              "      <td>new_page</td>\n",
              "      <td>0</td>\n",
              "    </tr>\n",
              "    <tr>\n",
              "      <th>294355</th>\n",
              "      <td>744456</td>\n",
              "      <td>2017-01-13 09:32:07.106794</td>\n",
              "      <td>treatment</td>\n",
              "      <td>new_page</td>\n",
              "      <td>0</td>\n",
              "    </tr>\n",
              "  </tbody>\n",
              "</table>\n",
              "<p>3894 rows × 5 columns</p>\n",
              "</div>\n",
              "      <button class=\"colab-df-convert\" onclick=\"convertToInteractive('df-eff6089e-f9ed-4ab4-aa9d-55dd42873d50')\"\n",
              "              title=\"Convert this dataframe to an interactive table.\"\n",
              "              style=\"display:none;\">\n",
              "        \n",
              "  <svg xmlns=\"http://www.w3.org/2000/svg\" height=\"24px\"viewBox=\"0 0 24 24\"\n",
              "       width=\"24px\">\n",
              "    <path d=\"M0 0h24v24H0V0z\" fill=\"none\"/>\n",
              "    <path d=\"M18.56 5.44l.94 2.06.94-2.06 2.06-.94-2.06-.94-.94-2.06-.94 2.06-2.06.94zm-11 1L8.5 8.5l.94-2.06 2.06-.94-2.06-.94L8.5 2.5l-.94 2.06-2.06.94zm10 10l.94 2.06.94-2.06 2.06-.94-2.06-.94-.94-2.06-.94 2.06-2.06.94z\"/><path d=\"M17.41 7.96l-1.37-1.37c-.4-.4-.92-.59-1.43-.59-.52 0-1.04.2-1.43.59L10.3 9.45l-7.72 7.72c-.78.78-.78 2.05 0 2.83L4 21.41c.39.39.9.59 1.41.59.51 0 1.02-.2 1.41-.59l7.78-7.78 2.81-2.81c.8-.78.8-2.07 0-2.86zM5.41 20L4 18.59l7.72-7.72 1.47 1.35L5.41 20z\"/>\n",
              "  </svg>\n",
              "      </button>\n",
              "      \n",
              "  <style>\n",
              "    .colab-df-container {\n",
              "      display:flex;\n",
              "      flex-wrap:wrap;\n",
              "      gap: 12px;\n",
              "    }\n",
              "\n",
              "    .colab-df-convert {\n",
              "      background-color: #E8F0FE;\n",
              "      border: none;\n",
              "      border-radius: 50%;\n",
              "      cursor: pointer;\n",
              "      display: none;\n",
              "      fill: #1967D2;\n",
              "      height: 32px;\n",
              "      padding: 0 0 0 0;\n",
              "      width: 32px;\n",
              "    }\n",
              "\n",
              "    .colab-df-convert:hover {\n",
              "      background-color: #E2EBFA;\n",
              "      box-shadow: 0px 1px 2px rgba(60, 64, 67, 0.3), 0px 1px 3px 1px rgba(60, 64, 67, 0.15);\n",
              "      fill: #174EA6;\n",
              "    }\n",
              "\n",
              "    [theme=dark] .colab-df-convert {\n",
              "      background-color: #3B4455;\n",
              "      fill: #D2E3FC;\n",
              "    }\n",
              "\n",
              "    [theme=dark] .colab-df-convert:hover {\n",
              "      background-color: #434B5C;\n",
              "      box-shadow: 0px 1px 3px 1px rgba(0, 0, 0, 0.15);\n",
              "      filter: drop-shadow(0px 1px 2px rgba(0, 0, 0, 0.3));\n",
              "      fill: #FFFFFF;\n",
              "    }\n",
              "  </style>\n",
              "\n",
              "      <script>\n",
              "        const buttonEl =\n",
              "          document.querySelector('#df-eff6089e-f9ed-4ab4-aa9d-55dd42873d50 button.colab-df-convert');\n",
              "        buttonEl.style.display =\n",
              "          google.colab.kernel.accessAllowed ? 'block' : 'none';\n",
              "\n",
              "        async function convertToInteractive(key) {\n",
              "          const element = document.querySelector('#df-eff6089e-f9ed-4ab4-aa9d-55dd42873d50');\n",
              "          const dataTable =\n",
              "            await google.colab.kernel.invokeFunction('convertToInteractive',\n",
              "                                                     [key], {});\n",
              "          if (!dataTable) return;\n",
              "\n",
              "          const docLinkHtml = 'Like what you see? Visit the ' +\n",
              "            '<a target=\"_blank\" href=https://colab.research.google.com/notebooks/data_table.ipynb>data table notebook</a>'\n",
              "            + ' to learn more about interactive tables.';\n",
              "          element.innerHTML = '';\n",
              "          dataTable['output_type'] = 'display_data';\n",
              "          await google.colab.output.renderOutput(dataTable, element);\n",
              "          const docLink = document.createElement('div');\n",
              "          docLink.innerHTML = docLinkHtml;\n",
              "          element.appendChild(docLink);\n",
              "        }\n",
              "      </script>\n",
              "    </div>\n",
              "  </div>\n",
              "  "
            ],
            "text/plain": [
              "        user_id                   timestamp      group landing_page  converted\n",
              "2656     698120  2017-01-15 17:13:42.602796    control     old_page          0\n",
              "2893     773192  2017-01-14 02:55:59.590927  treatment     new_page          0\n",
              "7500     899953  2017-01-07 03:06:54.068237    control     new_page          0\n",
              "8036     790934  2017-01-19 08:32:20.329057  treatment     new_page          0\n",
              "10218    633793  2017-01-17 00:16:00.746561  treatment     old_page          0\n",
              "...         ...                         ...        ...          ...        ...\n",
              "294308   905197  2017-01-03 06:56:47.488231  treatment     new_page          0\n",
              "294309   787083  2017-01-17 00:15:20.950723    control     old_page          0\n",
              "294328   641570  2017-01-09 21:59:27.695711    control     old_page          0\n",
              "294331   689637  2017-01-13 11:34:28.339532    control     new_page          0\n",
              "294355   744456  2017-01-13 09:32:07.106794  treatment     new_page          0\n",
              "\n",
              "[3894 rows x 5 columns]"
            ]
          },
          "metadata": {},
          "execution_count": 11
        }
      ]
    },
    {
      "cell_type": "code",
      "source": [
        "df_copy = df.copy()"
      ],
      "metadata": {
        "id": "bsyzenvcV2Qm"
      },
      "execution_count": 127,
      "outputs": []
    },
    {
      "cell_type": "markdown",
      "source": [
        "Turns out there are **3894** duplicated users observed. \n",
        "\n",
        "To avoid bias, we remove these duplicates."
      ],
      "metadata": {
        "id": "CLCdiQ6UVXOw"
      }
    },
    {
      "cell_type": "markdown",
      "source": [
        "## Cleaning "
      ],
      "metadata": {
        "id": "7qXf8tT2hVfM"
      }
    },
    {
      "cell_type": "code",
      "source": [
        "# First approach, removing the numbers that got duplicated, not keeping any if its duplicated.\n",
        "\n",
        "users_to_drop = df[df['user_id'].duplicated()]"
      ],
      "metadata": {
        "id": "eQ14jVzIaUOO"
      },
      "execution_count": 128,
      "outputs": []
    },
    {
      "cell_type": "code",
      "source": [
        "users_to_drop.shape"
      ],
      "metadata": {
        "colab": {
          "base_uri": "https://localhost:8080/"
        },
        "id": "vdgbWJcxaz7X",
        "outputId": "d6b8c027-942b-438c-b0f2-6a304e83c9bb"
      },
      "execution_count": 129,
      "outputs": [
        {
          "output_type": "execute_result",
          "data": {
            "text/plain": [
              "(3894, 5)"
            ]
          },
          "metadata": {},
          "execution_count": 129
        }
      ]
    },
    {
      "cell_type": "code",
      "source": [
        "users_to_drop['user_id'].isin([643869])"
      ],
      "metadata": {
        "colab": {
          "base_uri": "https://localhost:8080/"
        },
        "id": "GAqezfngeLQt",
        "outputId": "4ce4f363-0000-4d91-b1a5-47a3857efdc2"
      },
      "execution_count": 130,
      "outputs": [
        {
          "output_type": "execute_result",
          "data": {
            "text/plain": [
              "2656      False\n",
              "2893      False\n",
              "7500      False\n",
              "8036      False\n",
              "10218     False\n",
              "          ...  \n",
              "294308    False\n",
              "294309    False\n",
              "294328    False\n",
              "294331    False\n",
              "294355    False\n",
              "Name: user_id, Length: 3894, dtype: bool"
            ]
          },
          "metadata": {},
          "execution_count": 130
        }
      ]
    },
    {
      "cell_type": "code",
      "source": [
        "users_to_drop"
      ],
      "metadata": {
        "colab": {
          "base_uri": "https://localhost:8080/",
          "height": 414
        },
        "id": "J8w71pv2eXGz",
        "outputId": "aa3ecc07-9f9e-4f30-b669-a205794e7fe1"
      },
      "execution_count": 131,
      "outputs": [
        {
          "output_type": "execute_result",
          "data": {
            "text/html": [
              "\n",
              "  <div id=\"df-b0ab550e-cd3a-4961-a1b3-0a5c34e19cf5\">\n",
              "    <div class=\"colab-df-container\">\n",
              "      <div>\n",
              "<style scoped>\n",
              "    .dataframe tbody tr th:only-of-type {\n",
              "        vertical-align: middle;\n",
              "    }\n",
              "\n",
              "    .dataframe tbody tr th {\n",
              "        vertical-align: top;\n",
              "    }\n",
              "\n",
              "    .dataframe thead th {\n",
              "        text-align: right;\n",
              "    }\n",
              "</style>\n",
              "<table border=\"1\" class=\"dataframe\">\n",
              "  <thead>\n",
              "    <tr style=\"text-align: right;\">\n",
              "      <th></th>\n",
              "      <th>user_id</th>\n",
              "      <th>timestamp</th>\n",
              "      <th>group</th>\n",
              "      <th>landing_page</th>\n",
              "      <th>converted</th>\n",
              "    </tr>\n",
              "  </thead>\n",
              "  <tbody>\n",
              "    <tr>\n",
              "      <th>2656</th>\n",
              "      <td>698120</td>\n",
              "      <td>2017-01-15 17:13:42.602796</td>\n",
              "      <td>control</td>\n",
              "      <td>old_page</td>\n",
              "      <td>0</td>\n",
              "    </tr>\n",
              "    <tr>\n",
              "      <th>2893</th>\n",
              "      <td>773192</td>\n",
              "      <td>2017-01-14 02:55:59.590927</td>\n",
              "      <td>treatment</td>\n",
              "      <td>new_page</td>\n",
              "      <td>0</td>\n",
              "    </tr>\n",
              "    <tr>\n",
              "      <th>7500</th>\n",
              "      <td>899953</td>\n",
              "      <td>2017-01-07 03:06:54.068237</td>\n",
              "      <td>control</td>\n",
              "      <td>new_page</td>\n",
              "      <td>0</td>\n",
              "    </tr>\n",
              "    <tr>\n",
              "      <th>8036</th>\n",
              "      <td>790934</td>\n",
              "      <td>2017-01-19 08:32:20.329057</td>\n",
              "      <td>treatment</td>\n",
              "      <td>new_page</td>\n",
              "      <td>0</td>\n",
              "    </tr>\n",
              "    <tr>\n",
              "      <th>10218</th>\n",
              "      <td>633793</td>\n",
              "      <td>2017-01-17 00:16:00.746561</td>\n",
              "      <td>treatment</td>\n",
              "      <td>old_page</td>\n",
              "      <td>0</td>\n",
              "    </tr>\n",
              "    <tr>\n",
              "      <th>...</th>\n",
              "      <td>...</td>\n",
              "      <td>...</td>\n",
              "      <td>...</td>\n",
              "      <td>...</td>\n",
              "      <td>...</td>\n",
              "    </tr>\n",
              "    <tr>\n",
              "      <th>294308</th>\n",
              "      <td>905197</td>\n",
              "      <td>2017-01-03 06:56:47.488231</td>\n",
              "      <td>treatment</td>\n",
              "      <td>new_page</td>\n",
              "      <td>0</td>\n",
              "    </tr>\n",
              "    <tr>\n",
              "      <th>294309</th>\n",
              "      <td>787083</td>\n",
              "      <td>2017-01-17 00:15:20.950723</td>\n",
              "      <td>control</td>\n",
              "      <td>old_page</td>\n",
              "      <td>0</td>\n",
              "    </tr>\n",
              "    <tr>\n",
              "      <th>294328</th>\n",
              "      <td>641570</td>\n",
              "      <td>2017-01-09 21:59:27.695711</td>\n",
              "      <td>control</td>\n",
              "      <td>old_page</td>\n",
              "      <td>0</td>\n",
              "    </tr>\n",
              "    <tr>\n",
              "      <th>294331</th>\n",
              "      <td>689637</td>\n",
              "      <td>2017-01-13 11:34:28.339532</td>\n",
              "      <td>control</td>\n",
              "      <td>new_page</td>\n",
              "      <td>0</td>\n",
              "    </tr>\n",
              "    <tr>\n",
              "      <th>294355</th>\n",
              "      <td>744456</td>\n",
              "      <td>2017-01-13 09:32:07.106794</td>\n",
              "      <td>treatment</td>\n",
              "      <td>new_page</td>\n",
              "      <td>0</td>\n",
              "    </tr>\n",
              "  </tbody>\n",
              "</table>\n",
              "<p>3894 rows × 5 columns</p>\n",
              "</div>\n",
              "      <button class=\"colab-df-convert\" onclick=\"convertToInteractive('df-b0ab550e-cd3a-4961-a1b3-0a5c34e19cf5')\"\n",
              "              title=\"Convert this dataframe to an interactive table.\"\n",
              "              style=\"display:none;\">\n",
              "        \n",
              "  <svg xmlns=\"http://www.w3.org/2000/svg\" height=\"24px\"viewBox=\"0 0 24 24\"\n",
              "       width=\"24px\">\n",
              "    <path d=\"M0 0h24v24H0V0z\" fill=\"none\"/>\n",
              "    <path d=\"M18.56 5.44l.94 2.06.94-2.06 2.06-.94-2.06-.94-.94-2.06-.94 2.06-2.06.94zm-11 1L8.5 8.5l.94-2.06 2.06-.94-2.06-.94L8.5 2.5l-.94 2.06-2.06.94zm10 10l.94 2.06.94-2.06 2.06-.94-2.06-.94-.94-2.06-.94 2.06-2.06.94z\"/><path d=\"M17.41 7.96l-1.37-1.37c-.4-.4-.92-.59-1.43-.59-.52 0-1.04.2-1.43.59L10.3 9.45l-7.72 7.72c-.78.78-.78 2.05 0 2.83L4 21.41c.39.39.9.59 1.41.59.51 0 1.02-.2 1.41-.59l7.78-7.78 2.81-2.81c.8-.78.8-2.07 0-2.86zM5.41 20L4 18.59l7.72-7.72 1.47 1.35L5.41 20z\"/>\n",
              "  </svg>\n",
              "      </button>\n",
              "      \n",
              "  <style>\n",
              "    .colab-df-container {\n",
              "      display:flex;\n",
              "      flex-wrap:wrap;\n",
              "      gap: 12px;\n",
              "    }\n",
              "\n",
              "    .colab-df-convert {\n",
              "      background-color: #E8F0FE;\n",
              "      border: none;\n",
              "      border-radius: 50%;\n",
              "      cursor: pointer;\n",
              "      display: none;\n",
              "      fill: #1967D2;\n",
              "      height: 32px;\n",
              "      padding: 0 0 0 0;\n",
              "      width: 32px;\n",
              "    }\n",
              "\n",
              "    .colab-df-convert:hover {\n",
              "      background-color: #E2EBFA;\n",
              "      box-shadow: 0px 1px 2px rgba(60, 64, 67, 0.3), 0px 1px 3px 1px rgba(60, 64, 67, 0.15);\n",
              "      fill: #174EA6;\n",
              "    }\n",
              "\n",
              "    [theme=dark] .colab-df-convert {\n",
              "      background-color: #3B4455;\n",
              "      fill: #D2E3FC;\n",
              "    }\n",
              "\n",
              "    [theme=dark] .colab-df-convert:hover {\n",
              "      background-color: #434B5C;\n",
              "      box-shadow: 0px 1px 3px 1px rgba(0, 0, 0, 0.15);\n",
              "      filter: drop-shadow(0px 1px 2px rgba(0, 0, 0, 0.3));\n",
              "      fill: #FFFFFF;\n",
              "    }\n",
              "  </style>\n",
              "\n",
              "      <script>\n",
              "        const buttonEl =\n",
              "          document.querySelector('#df-b0ab550e-cd3a-4961-a1b3-0a5c34e19cf5 button.colab-df-convert');\n",
              "        buttonEl.style.display =\n",
              "          google.colab.kernel.accessAllowed ? 'block' : 'none';\n",
              "\n",
              "        async function convertToInteractive(key) {\n",
              "          const element = document.querySelector('#df-b0ab550e-cd3a-4961-a1b3-0a5c34e19cf5');\n",
              "          const dataTable =\n",
              "            await google.colab.kernel.invokeFunction('convertToInteractive',\n",
              "                                                     [key], {});\n",
              "          if (!dataTable) return;\n",
              "\n",
              "          const docLinkHtml = 'Like what you see? Visit the ' +\n",
              "            '<a target=\"_blank\" href=https://colab.research.google.com/notebooks/data_table.ipynb>data table notebook</a>'\n",
              "            + ' to learn more about interactive tables.';\n",
              "          element.innerHTML = '';\n",
              "          dataTable['output_type'] = 'display_data';\n",
              "          await google.colab.output.renderOutput(dataTable, element);\n",
              "          const docLink = document.createElement('div');\n",
              "          docLink.innerHTML = docLinkHtml;\n",
              "          element.appendChild(docLink);\n",
              "        }\n",
              "      </script>\n",
              "    </div>\n",
              "  </div>\n",
              "  "
            ],
            "text/plain": [
              "        user_id                   timestamp      group landing_page  converted\n",
              "2656     698120  2017-01-15 17:13:42.602796    control     old_page          0\n",
              "2893     773192  2017-01-14 02:55:59.590927  treatment     new_page          0\n",
              "7500     899953  2017-01-07 03:06:54.068237    control     new_page          0\n",
              "8036     790934  2017-01-19 08:32:20.329057  treatment     new_page          0\n",
              "10218    633793  2017-01-17 00:16:00.746561  treatment     old_page          0\n",
              "...         ...                         ...        ...          ...        ...\n",
              "294308   905197  2017-01-03 06:56:47.488231  treatment     new_page          0\n",
              "294309   787083  2017-01-17 00:15:20.950723    control     old_page          0\n",
              "294328   641570  2017-01-09 21:59:27.695711    control     old_page          0\n",
              "294331   689637  2017-01-13 11:34:28.339532    control     new_page          0\n",
              "294355   744456  2017-01-13 09:32:07.106794  treatment     new_page          0\n",
              "\n",
              "[3894 rows x 5 columns]"
            ]
          },
          "metadata": {},
          "execution_count": 131
        }
      ]
    },
    {
      "cell_type": "markdown",
      "source": [
        "##### Cross checking methods"
      ],
      "metadata": {
        "id": "2kcBUwcrfWuv"
      }
    },
    {
      "cell_type": "code",
      "source": [
        "count_occ = df_copy['user_id'].value_counts(ascending = False)"
      ],
      "metadata": {
        "id": "DqLD-LuicvOi"
      },
      "execution_count": 132,
      "outputs": []
    },
    {
      "cell_type": "code",
      "source": [
        "count_occ = count_occ[count_occ > 1]"
      ],
      "metadata": {
        "id": "uO3N1YvnfHyT"
      },
      "execution_count": 133,
      "outputs": []
    },
    {
      "cell_type": "code",
      "source": [
        "print(899953 in count_occ)"
      ],
      "metadata": {
        "colab": {
          "base_uri": "https://localhost:8080/"
        },
        "id": "wog_lnfve9e4",
        "outputId": "46565230-6634-4a15-f90f-b849c357b938"
      },
      "execution_count": 134,
      "outputs": [
        {
          "output_type": "stream",
          "name": "stdout",
          "text": [
            "True\n"
          ]
        }
      ]
    },
    {
      "cell_type": "code",
      "source": [
        "users_to_drop = users_to_drop['user_id']"
      ],
      "metadata": {
        "id": "nnq-eoS0bTv2"
      },
      "execution_count": 135,
      "outputs": []
    },
    {
      "cell_type": "code",
      "source": [
        "df = df[~df['user_id'].isin(users_to_drop)]"
      ],
      "metadata": {
        "id": "t_N9RJjZa9VS"
      },
      "execution_count": 136,
      "outputs": []
    },
    {
      "cell_type": "code",
      "source": [
        "df.shape"
      ],
      "metadata": {
        "colab": {
          "base_uri": "https://localhost:8080/"
        },
        "id": "n3OwsY4nbF4W",
        "outputId": "d8bdc9cd-b032-42aa-800a-523d2071690b"
      },
      "execution_count": 137,
      "outputs": [
        {
          "output_type": "execute_result",
          "data": {
            "text/plain": [
              "(286690, 5)"
            ]
          },
          "metadata": {},
          "execution_count": 137
        }
      ]
    },
    {
      "cell_type": "markdown",
      "source": [
        "**The logic behind the first approach:**\n",
        "\n",
        "\n",
        " The *count* length of the User IDs that got duplicated is 3894, but since these occurences happen twice per each of the User IDs, mentioned so we will remove 3894 x 2 (Including the original User IDs first occurence)\n",
        "\n",
        "\n"
      ],
      "metadata": {
        "id": "sELfElbccmG8"
      }
    },
    {
      "cell_type": "code",
      "source": [
        "# Second approach, removing the duplicates, but only keeping the first occurence of the duplicate\n",
        "\n",
        "df_copy_duplicated = df_copy[df_copy['user_id'].duplicated()]"
      ],
      "metadata": {
        "id": "MwECwhdSXFo6"
      },
      "execution_count": 138,
      "outputs": []
    },
    {
      "cell_type": "code",
      "source": [
        "df_copy_duplicated.shape"
      ],
      "metadata": {
        "colab": {
          "base_uri": "https://localhost:8080/"
        },
        "id": "ZwMfGN2NXPpX",
        "outputId": "920f92c8-b4aa-4d0c-ef74-e164f8d9117a"
      },
      "execution_count": 139,
      "outputs": [
        {
          "output_type": "execute_result",
          "data": {
            "text/plain": [
              "(3894, 5)"
            ]
          },
          "metadata": {},
          "execution_count": 139
        }
      ]
    },
    {
      "cell_type": "code",
      "source": [
        "df_copy = df_copy.drop_duplicates(subset=['user_id'], keep='first')"
      ],
      "metadata": {
        "id": "cTMHqm0qXRjB"
      },
      "execution_count": 142,
      "outputs": []
    },
    {
      "cell_type": "code",
      "source": [
        "df_copy.shape"
      ],
      "metadata": {
        "colab": {
          "base_uri": "https://localhost:8080/"
        },
        "id": "m-QeBphHZu4G",
        "outputId": "1da1b314-16bb-4838-8a0c-ab4d554c4085"
      },
      "execution_count": 143,
      "outputs": [
        {
          "output_type": "execute_result",
          "data": {
            "text/plain": [
              "(290584, 5)"
            ]
          },
          "metadata": {},
          "execution_count": 143
        }
      ]
    },
    {
      "cell_type": "markdown",
      "source": [
        "**The logic behind the second approach:**\n",
        "\n",
        "\n",
        " The *count* length of the User IDs that got duplicated is 3894, but since these occurences happen twice per each of the User IDs, and the second approach is dropping duplicated **but** keeping their first occurences, hence only 3984 is dropped instead of twice the value, like first run.\n"
      ],
      "metadata": {
        "id": "ndHu3dmEgJaB"
      }
    },
    {
      "cell_type": "markdown",
      "source": [
        "\n",
        "\n",
        "```\n",
        "Hence at the end of the day whether you want to use more sample data with:\n",
        "\n",
        "1. df = 286.690 # All duplicates even first occurence, removed\n",
        "2. df_copy = 290.584 # All duplicates removed, but first occurence kept\n",
        "\n",
        "My advice, better use df instead, because we'd much rather \n",
        "have users that were tested once instead of various times, \n",
        "and we don't know which one is more genuine to take, \n",
        "the first occurence, or the last.\n",
        "\n",
        "Hence better remove those that got duplicated, even the first occurence.\n",
        "```\n",
        "\n"
      ],
      "metadata": {
        "id": "PhA_FPLdgbnM"
      }
    },
    {
      "cell_type": "markdown",
      "source": [
        "## Sampling"
      ],
      "metadata": {
        "id": "Wj_S28Iyhcg-"
      }
    },
    {
      "cell_type": "markdown",
      "source": [
        "Firstly, we need to know how much of the required n value should we need for the samples. "
      ],
      "metadata": {
        "id": "14PLrZzphkOq"
      }
    },
    {
      "cell_type": "markdown",
      "source": [
        "Effect size — How big of a difference we expect there to be between the conversion rates\n",
        "\n",
        "For example our team would be happy with a difference of 2%, we can use 18% and 20% to calculate the effect size we expect.\n",
        "\n",
        "**Note**: This is usually decided by the stakeholders or the company."
      ],
      "metadata": {
        "id": "NSIKZNwpmsPn"
      }
    },
    {
      "cell_type": "code",
      "source": [
        "# Packages imports\n",
        "import scipy.stats as stats\n",
        "import statsmodels.stats.api as sms\n",
        "import matplotlib as mpl\n",
        "import matplotlib.pyplot as plt\n",
        "from math import ceil\n",
        "\n",
        "%matplotlib inline\n",
        "\n",
        "# Some plot styling preferences\n",
        "plt.style.use('seaborn-whitegrid')\n",
        "font = {'family' : 'Helvetica',\n",
        "        'weight' : 'bold',\n",
        "        'size'   : 14}\n",
        "\n",
        "mpl.rc('font', **font)\n",
        "effect_size = sms.proportion_effectsize(0.18, 0.20)    # Calculating effect size based on our expected rates\n",
        "\n",
        "required_n = sms.NormalIndPower().solve_power(\n",
        "    effect_size, \n",
        "    power=0.8, \n",
        "    alpha=0.05, \n",
        "    ratio=1\n",
        "    )                                                  # Calculating sample size needed\n",
        "\n",
        "required_n = ceil(required_n)                          # Rounding up to next whole number                          \n",
        "\n",
        "print(required_n)"
      ],
      "metadata": {
        "colab": {
          "base_uri": "https://localhost:8080/"
        },
        "id": "iQt5DmBehn61",
        "outputId": "54d622e1-a524-40ad-dc68-07f66fbf7b05"
      },
      "execution_count": 150,
      "outputs": [
        {
          "output_type": "stream",
          "name": "stdout",
          "text": [
            "6036\n"
          ]
        }
      ]
    },
    {
      "cell_type": "code",
      "source": [
        "control_sample = df[df['group'] == 'control'].sample(n=required_n, random_state=24)\n",
        "treatment_sample = df[df['group'] == 'treatment'].sample(n=required_n, random_state=24)\n",
        "\n",
        "ab_test = pd.concat([control_sample, treatment_sample], axis=0)\n",
        "ab_test.reset_index(drop=True, inplace=True)\n",
        "ab_test"
      ],
      "metadata": {
        "colab": {
          "base_uri": "https://localhost:8080/",
          "height": 414
        },
        "id": "N7bEf8rVgB49",
        "outputId": "a2e93000-9e8e-4e68-e0dd-0a6d52b8eac3"
      },
      "execution_count": 151,
      "outputs": [
        {
          "output_type": "execute_result",
          "data": {
            "text/html": [
              "\n",
              "  <div id=\"df-38c4c2eb-8a3b-45b9-a7da-399fc528ea6d\">\n",
              "    <div class=\"colab-df-container\">\n",
              "      <div>\n",
              "<style scoped>\n",
              "    .dataframe tbody tr th:only-of-type {\n",
              "        vertical-align: middle;\n",
              "    }\n",
              "\n",
              "    .dataframe tbody tr th {\n",
              "        vertical-align: top;\n",
              "    }\n",
              "\n",
              "    .dataframe thead th {\n",
              "        text-align: right;\n",
              "    }\n",
              "</style>\n",
              "<table border=\"1\" class=\"dataframe\">\n",
              "  <thead>\n",
              "    <tr style=\"text-align: right;\">\n",
              "      <th></th>\n",
              "      <th>user_id</th>\n",
              "      <th>timestamp</th>\n",
              "      <th>group</th>\n",
              "      <th>landing_page</th>\n",
              "      <th>converted</th>\n",
              "    </tr>\n",
              "  </thead>\n",
              "  <tbody>\n",
              "    <tr>\n",
              "      <th>0</th>\n",
              "      <td>803552</td>\n",
              "      <td>2017-01-11 03:29:19.204888</td>\n",
              "      <td>control</td>\n",
              "      <td>old_page</td>\n",
              "      <td>0</td>\n",
              "    </tr>\n",
              "    <tr>\n",
              "      <th>1</th>\n",
              "      <td>873056</td>\n",
              "      <td>2017-01-16 08:15:07.514286</td>\n",
              "      <td>control</td>\n",
              "      <td>old_page</td>\n",
              "      <td>0</td>\n",
              "    </tr>\n",
              "    <tr>\n",
              "      <th>2</th>\n",
              "      <td>910537</td>\n",
              "      <td>2017-01-04 02:22:03.820979</td>\n",
              "      <td>control</td>\n",
              "      <td>old_page</td>\n",
              "      <td>0</td>\n",
              "    </tr>\n",
              "    <tr>\n",
              "      <th>3</th>\n",
              "      <td>742293</td>\n",
              "      <td>2017-01-19 04:11:16.325587</td>\n",
              "      <td>control</td>\n",
              "      <td>old_page</td>\n",
              "      <td>0</td>\n",
              "    </tr>\n",
              "    <tr>\n",
              "      <th>4</th>\n",
              "      <td>706642</td>\n",
              "      <td>2017-01-08 04:31:55.179279</td>\n",
              "      <td>control</td>\n",
              "      <td>old_page</td>\n",
              "      <td>0</td>\n",
              "    </tr>\n",
              "    <tr>\n",
              "      <th>...</th>\n",
              "      <td>...</td>\n",
              "      <td>...</td>\n",
              "      <td>...</td>\n",
              "      <td>...</td>\n",
              "      <td>...</td>\n",
              "    </tr>\n",
              "    <tr>\n",
              "      <th>12067</th>\n",
              "      <td>847651</td>\n",
              "      <td>2017-01-06 22:23:47.881569</td>\n",
              "      <td>treatment</td>\n",
              "      <td>new_page</td>\n",
              "      <td>1</td>\n",
              "    </tr>\n",
              "    <tr>\n",
              "      <th>12068</th>\n",
              "      <td>641074</td>\n",
              "      <td>2017-01-23 21:45:41.901720</td>\n",
              "      <td>treatment</td>\n",
              "      <td>new_page</td>\n",
              "      <td>1</td>\n",
              "    </tr>\n",
              "    <tr>\n",
              "      <th>12069</th>\n",
              "      <td>744148</td>\n",
              "      <td>2017-01-20 13:01:36.829002</td>\n",
              "      <td>treatment</td>\n",
              "      <td>new_page</td>\n",
              "      <td>0</td>\n",
              "    </tr>\n",
              "    <tr>\n",
              "      <th>12070</th>\n",
              "      <td>728295</td>\n",
              "      <td>2017-01-19 11:39:20.367825</td>\n",
              "      <td>treatment</td>\n",
              "      <td>new_page</td>\n",
              "      <td>0</td>\n",
              "    </tr>\n",
              "    <tr>\n",
              "      <th>12071</th>\n",
              "      <td>824391</td>\n",
              "      <td>2017-01-04 15:37:52.268687</td>\n",
              "      <td>treatment</td>\n",
              "      <td>new_page</td>\n",
              "      <td>0</td>\n",
              "    </tr>\n",
              "  </tbody>\n",
              "</table>\n",
              "<p>12072 rows × 5 columns</p>\n",
              "</div>\n",
              "      <button class=\"colab-df-convert\" onclick=\"convertToInteractive('df-38c4c2eb-8a3b-45b9-a7da-399fc528ea6d')\"\n",
              "              title=\"Convert this dataframe to an interactive table.\"\n",
              "              style=\"display:none;\">\n",
              "        \n",
              "  <svg xmlns=\"http://www.w3.org/2000/svg\" height=\"24px\"viewBox=\"0 0 24 24\"\n",
              "       width=\"24px\">\n",
              "    <path d=\"M0 0h24v24H0V0z\" fill=\"none\"/>\n",
              "    <path d=\"M18.56 5.44l.94 2.06.94-2.06 2.06-.94-2.06-.94-.94-2.06-.94 2.06-2.06.94zm-11 1L8.5 8.5l.94-2.06 2.06-.94-2.06-.94L8.5 2.5l-.94 2.06-2.06.94zm10 10l.94 2.06.94-2.06 2.06-.94-2.06-.94-.94-2.06-.94 2.06-2.06.94z\"/><path d=\"M17.41 7.96l-1.37-1.37c-.4-.4-.92-.59-1.43-.59-.52 0-1.04.2-1.43.59L10.3 9.45l-7.72 7.72c-.78.78-.78 2.05 0 2.83L4 21.41c.39.39.9.59 1.41.59.51 0 1.02-.2 1.41-.59l7.78-7.78 2.81-2.81c.8-.78.8-2.07 0-2.86zM5.41 20L4 18.59l7.72-7.72 1.47 1.35L5.41 20z\"/>\n",
              "  </svg>\n",
              "      </button>\n",
              "      \n",
              "  <style>\n",
              "    .colab-df-container {\n",
              "      display:flex;\n",
              "      flex-wrap:wrap;\n",
              "      gap: 12px;\n",
              "    }\n",
              "\n",
              "    .colab-df-convert {\n",
              "      background-color: #E8F0FE;\n",
              "      border: none;\n",
              "      border-radius: 50%;\n",
              "      cursor: pointer;\n",
              "      display: none;\n",
              "      fill: #1967D2;\n",
              "      height: 32px;\n",
              "      padding: 0 0 0 0;\n",
              "      width: 32px;\n",
              "    }\n",
              "\n",
              "    .colab-df-convert:hover {\n",
              "      background-color: #E2EBFA;\n",
              "      box-shadow: 0px 1px 2px rgba(60, 64, 67, 0.3), 0px 1px 3px 1px rgba(60, 64, 67, 0.15);\n",
              "      fill: #174EA6;\n",
              "    }\n",
              "\n",
              "    [theme=dark] .colab-df-convert {\n",
              "      background-color: #3B4455;\n",
              "      fill: #D2E3FC;\n",
              "    }\n",
              "\n",
              "    [theme=dark] .colab-df-convert:hover {\n",
              "      background-color: #434B5C;\n",
              "      box-shadow: 0px 1px 3px 1px rgba(0, 0, 0, 0.15);\n",
              "      filter: drop-shadow(0px 1px 2px rgba(0, 0, 0, 0.3));\n",
              "      fill: #FFFFFF;\n",
              "    }\n",
              "  </style>\n",
              "\n",
              "      <script>\n",
              "        const buttonEl =\n",
              "          document.querySelector('#df-38c4c2eb-8a3b-45b9-a7da-399fc528ea6d button.colab-df-convert');\n",
              "        buttonEl.style.display =\n",
              "          google.colab.kernel.accessAllowed ? 'block' : 'none';\n",
              "\n",
              "        async function convertToInteractive(key) {\n",
              "          const element = document.querySelector('#df-38c4c2eb-8a3b-45b9-a7da-399fc528ea6d');\n",
              "          const dataTable =\n",
              "            await google.colab.kernel.invokeFunction('convertToInteractive',\n",
              "                                                     [key], {});\n",
              "          if (!dataTable) return;\n",
              "\n",
              "          const docLinkHtml = 'Like what you see? Visit the ' +\n",
              "            '<a target=\"_blank\" href=https://colab.research.google.com/notebooks/data_table.ipynb>data table notebook</a>'\n",
              "            + ' to learn more about interactive tables.';\n",
              "          element.innerHTML = '';\n",
              "          dataTable['output_type'] = 'display_data';\n",
              "          await google.colab.output.renderOutput(dataTable, element);\n",
              "          const docLink = document.createElement('div');\n",
              "          docLink.innerHTML = docLinkHtml;\n",
              "          element.appendChild(docLink);\n",
              "        }\n",
              "      </script>\n",
              "    </div>\n",
              "  </div>\n",
              "  "
            ],
            "text/plain": [
              "       user_id                   timestamp      group landing_page  converted\n",
              "0       803552  2017-01-11 03:29:19.204888    control     old_page          0\n",
              "1       873056  2017-01-16 08:15:07.514286    control     old_page          0\n",
              "2       910537  2017-01-04 02:22:03.820979    control     old_page          0\n",
              "3       742293  2017-01-19 04:11:16.325587    control     old_page          0\n",
              "4       706642  2017-01-08 04:31:55.179279    control     old_page          0\n",
              "...        ...                         ...        ...          ...        ...\n",
              "12067   847651  2017-01-06 22:23:47.881569  treatment     new_page          1\n",
              "12068   641074  2017-01-23 21:45:41.901720  treatment     new_page          1\n",
              "12069   744148  2017-01-20 13:01:36.829002  treatment     new_page          0\n",
              "12070   728295  2017-01-19 11:39:20.367825  treatment     new_page          0\n",
              "12071   824391  2017-01-04 15:37:52.268687  treatment     new_page          0\n",
              "\n",
              "[12072 rows x 5 columns]"
            ]
          },
          "metadata": {},
          "execution_count": 151
        }
      ]
    },
    {
      "cell_type": "code",
      "source": [
        "ab_test['group'].value_counts()"
      ],
      "metadata": {
        "colab": {
          "base_uri": "https://localhost:8080/"
        },
        "id": "TTTlsJbtnPcq",
        "outputId": "616c0b8c-87eb-4327-c212-04864853233b"
      },
      "execution_count": 153,
      "outputs": [
        {
          "output_type": "execute_result",
          "data": {
            "text/plain": [
              "treatment    6036\n",
              "control      6036\n",
              "Name: group, dtype: int64"
            ]
          },
          "metadata": {},
          "execution_count": 153
        }
      ]
    },
    {
      "cell_type": "markdown",
      "source": [
        "## Visualizing Results"
      ],
      "metadata": {
        "id": "PrrruoThnY7e"
      }
    },
    {
      "cell_type": "code",
      "source": [
        "conversion_rates = ab_test.groupby('group')['converted']\n",
        "\n",
        "std_p = lambda x: np.std(x, ddof=0)              # Std. deviation of the proportion\n",
        "se_p = lambda x: stats.sem(x, ddof=0)            # Std. error of the proportion (std / sqrt(n))\n",
        "\n",
        "conversion_rates = conversion_rates.agg([np.mean, std_p, se_p])\n",
        "conversion_rates.columns = ['conversion_rate', 'std_deviation', 'std_error']\n",
        "\n",
        "\n",
        "conversion_rates.style.format('{:.3f}')"
      ],
      "metadata": {
        "colab": {
          "base_uri": "https://localhost:8080/",
          "height": 141
        },
        "id": "9XgvPofYnSUD",
        "outputId": "dd12fa45-045b-4e82-cd45-16f0ca6a9a06"
      },
      "execution_count": 154,
      "outputs": [
        {
          "output_type": "execute_result",
          "data": {
            "text/html": [
              "<style  type=\"text/css\" >\n",
              "</style><table id=\"T_c3138aa6_7f49_11ec_abc8_0242ac1c0002\" class=\"dataframe\"><thead>    <tr>        <th class=\"blank level0\" ></th>        <th class=\"col_heading level0 col0\" >conversion_rate</th>        <th class=\"col_heading level0 col1\" >std_deviation</th>        <th class=\"col_heading level0 col2\" >std_error</th>    </tr>    <tr>        <th class=\"index_name level0\" >group</th>        <th class=\"blank\" ></th>        <th class=\"blank\" ></th>        <th class=\"blank\" ></th>    </tr></thead><tbody>\n",
              "                <tr>\n",
              "                        <th id=\"T_c3138aa6_7f49_11ec_abc8_0242ac1c0002level0_row0\" class=\"row_heading level0 row0\" >control</th>\n",
              "                        <td id=\"T_c3138aa6_7f49_11ec_abc8_0242ac1c0002row0_col0\" class=\"data row0 col0\" >0.115</td>\n",
              "                        <td id=\"T_c3138aa6_7f49_11ec_abc8_0242ac1c0002row0_col1\" class=\"data row0 col1\" >0.319</td>\n",
              "                        <td id=\"T_c3138aa6_7f49_11ec_abc8_0242ac1c0002row0_col2\" class=\"data row0 col2\" >0.004</td>\n",
              "            </tr>\n",
              "            <tr>\n",
              "                        <th id=\"T_c3138aa6_7f49_11ec_abc8_0242ac1c0002level0_row1\" class=\"row_heading level0 row1\" >treatment</th>\n",
              "                        <td id=\"T_c3138aa6_7f49_11ec_abc8_0242ac1c0002row1_col0\" class=\"data row1 col0\" >0.119</td>\n",
              "                        <td id=\"T_c3138aa6_7f49_11ec_abc8_0242ac1c0002row1_col1\" class=\"data row1 col1\" >0.324</td>\n",
              "                        <td id=\"T_c3138aa6_7f49_11ec_abc8_0242ac1c0002row1_col2\" class=\"data row1 col2\" >0.004</td>\n",
              "            </tr>\n",
              "    </tbody></table>"
            ],
            "text/plain": [
              "<pandas.io.formats.style.Styler at 0x7faef598e510>"
            ]
          },
          "metadata": {},
          "execution_count": 154
        }
      ]
    },
    {
      "cell_type": "markdown",
      "source": [
        "Judging by the stats above, it does look like our two designs performed very similarly, with our new design performing slightly better, approx. 11.5% vs. 11.9% conversion rate."
      ],
      "metadata": {
        "id": "qiXGHpsbn3ph"
      }
    },
    {
      "cell_type": "code",
      "source": [
        "plt.figure(figsize=(8,6))\n",
        "\n",
        "sns.barplot(x=ab_test['group'], y=ab_test['converted'], ci=False)\n",
        "\n",
        "plt.ylim(0, 0.17)\n",
        "plt.title('Conversion rate by group', pad=20)\n",
        "plt.xlabel('Group', labelpad=15)\n",
        "plt.ylabel('Converted (proportion)', labelpad=15);"
      ],
      "metadata": {
        "colab": {
          "base_uri": "https://localhost:8080/",
          "height": 491
        },
        "id": "hb3_euLenhyZ",
        "outputId": "b84ca5ff-96bf-4b18-dfaf-e9e97b6438e1"
      },
      "execution_count": 156,
      "outputs": [
        {
          "output_type": "stream",
          "name": "stderr",
          "text": [
            "findfont: Font family ['Helvetica'] not found. Falling back to DejaVu Sans.\n",
            "findfont: Font family ['Helvetica'] not found. Falling back to DejaVu Sans.\n",
            "findfont: Font family ['Helvetica'] not found. Falling back to DejaVu Sans.\n"
          ]
        },
        {
          "output_type": "display_data",
          "data": {
            "image/png": "[encoded data removed]",
            "text/plain": [
              "<Figure size 576x432 with 1 Axes>"
            ]
          },
          "metadata": {}
        }
      ]
    },
    {
      "cell_type": "markdown",
      "source": [
        "So… the treatment group's value is higher. Is this difference statistically significant?"
      ],
      "metadata": {
        "id": "6WUz6QezoB7p"
      }
    },
    {
      "cell_type": "markdown",
      "source": [
        "## Hypothesis testing"
      ],
      "metadata": {
        "id": "eLHMtSgtoEjd"
      }
    },
    {
      "cell_type": "code",
      "source": [
        "from statsmodels.stats.proportion import proportions_ztest, proportion_confint\n",
        "control_results = ab_test[ab_test['group'] == 'control']['converted']\n",
        "treatment_results = ab_test[ab_test['group'] == 'treatment']['converted']\n",
        "n_con = control_results.count()\n",
        "n_treat = treatment_results.count()\n",
        "successes = [control_results.sum(), treatment_results.sum()]\n",
        "nobs = [n_con, n_treat]\n",
        "\n",
        "z_stat, pval = proportions_ztest(successes, nobs=nobs)\n",
        "(lower_con, lower_treat), (upper_con, upper_treat) = proportion_confint(successes, nobs=nobs, alpha=0.05)\n",
        "\n",
        "print(f'z statistic: {z_stat:.2f}')\n",
        "print(f'p-value: {pval:.3f}')\n",
        "print(f'ci 95% for control group: [{lower_con:.3f}, {upper_con:.3f}]')\n",
        "print(f'ci 95% for treatment group: [{lower_treat:.3f}, {upper_treat:.3f}]')"
      ],
      "metadata": {
        "colab": {
          "base_uri": "https://localhost:8080/"
        },
        "id": "C1OffWcXnauP",
        "outputId": "9831070d-a146-4fa7-bd1a-784878253e52"
      },
      "execution_count": 157,
      "outputs": [
        {
          "output_type": "stream",
          "name": "stdout",
          "text": [
            "z statistic: -0.65\n",
            "p-value: 0.515\n",
            "ci 95% for control group: [0.107, 0.123]\n",
            "ci 95% for treatment group: [0.111, 0.127]\n"
          ]
        }
      ]
    },
    {
      "cell_type": "markdown",
      "source": [
        "**Analyzing results** \n",
        "\n",
        "Since our p-value=0.515 is way above our α=0.05 threshold, we cannot reject the Null hypothesis Hₒ, which means that our new design did not perform significantly different, better or worse, than the old one.\n",
        "\n",
        "Additionally, if we look at the confidence interval for the treatment group ([0.111, 0.127], or 11.1-12.7%) we notice that:\n",
        "It does not include our baseline value of 18%% conversion rate, nor does it include our target value of 20% (the 2% uplift we were aiming for)\n",
        "\n",
        "What this might mean is that:\n",
        "\n",
        "\n",
        "\n",
        "1.   The actual conversion rates are actually lower than expected 18%-20%. Hence, the actual conversion rates are perhaps 11-12%\n",
        "2.   The uplift of the 2% is also not achieveable based on the data; because roughly 10.7% to 11.1% / 12.3% to 12.7% is only a 0.4% increase in conversion rate. \n",
        "3.    The numbers of the confidence interval showss that the new design of the UI is not likely to improve the conversion rates. \n",
        "\n",
        "\n",
        "Also, some suggestions will be trying ads and marketing to increase the conversion rates as a whole (outside of the A/B testing scheme and reach it into a higher threshold of >2%). Take periodical goals for the conversion rates, perhaps an increase of 2% this Q1, 4% the next Q2, and so on. \n",
        "\n",
        "Furthermore, we can try readjusting the parameters in the A/B testing to match the actual rates 11-12% but the results will still show us the same insights. "
      ],
      "metadata": {
        "id": "Y8601QS-oxAP"
      }
    },
    {
      "cell_type": "code",
      "source": [
        ""
      ],
      "metadata": {
        "id": "7ckEYaFwoIyQ"
      },
      "execution_count": null,
      "outputs": []
    }
  ]
}